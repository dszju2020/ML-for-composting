{
 "cells": [
  {
   "cell_type": "code",
   "execution_count": 1,
   "metadata": {},
   "outputs": [],
   "source": [
    "# \n",
    "import numpy as np\n",
    "from numpy import arange\n",
    "from matplotlib import pyplot\n",
    "import pandas as pd\n",
    "from pandas import  set_option\n",
    "from pandas.plotting import scatter_matrix\n",
    "from sklearn.preprocessing import StandardScaler\n",
    "from sklearn.model_selection import train_test_split\n",
    "from sklearn.model_selection import KFold\n",
    "from sklearn.model_selection import cross_val_score\n",
    "from sklearn.model_selection import GridSearchCV\n",
    "from sklearn.pipeline import Pipeline\n",
    "\n",
    "#\n",
    "from sklearn.linear_model import LinearRegression\n",
    "from sklearn.neighbors import KNeighborsRegressor\n",
    "from sklearn.svm import SVR\n",
    "from sklearn.tree import DecisionTreeRegressor\n",
    "from sklearn.neural_network import MLPRegressor\n",
    "from sklearn.ensemble import RandomForestRegressor\n",
    "\n",
    "#\n",
    "from mlxtend.regressor import StackingRegressor\n",
    "from mlxtend.regressor import StackingCVRegressor\n",
    "\n",
    "#\n",
    "from sklearn.metrics import mean_squared_error, r2_score\n",
    "from sklearn.metrics import mean_absolute_error"
   ]
  },
  {
   "cell_type": "code",
   "execution_count": 2,
   "metadata": {},
   "outputs": [
    {
     "data": {
      "text/html": [
       "<div>\n",
       "<style scoped>\n",
       "    .dataframe tbody tr th:only-of-type {\n",
       "        vertical-align: middle;\n",
       "    }\n",
       "\n",
       "    .dataframe tbody tr th {\n",
       "        vertical-align: top;\n",
       "    }\n",
       "\n",
       "    .dataframe thead th {\n",
       "        text-align: right;\n",
       "    }\n",
       "</style>\n",
       "<table border=\"1\" class=\"dataframe\">\n",
       "  <thead>\n",
       "    <tr style=\"text-align: right;\">\n",
       "      <th></th>\n",
       "      <th>Day</th>\n",
       "      <th>Temperature</th>\n",
       "      <th>MC</th>\n",
       "      <th>pH</th>\n",
       "      <th>Ammonia</th>\n",
       "      <th>Nitrate</th>\n",
       "      <th>TN</th>\n",
       "      <th>TOC</th>\n",
       "      <th>EC</th>\n",
       "      <th>OM</th>\n",
       "      <th>Score</th>\n",
       "    </tr>\n",
       "  </thead>\n",
       "  <tbody>\n",
       "    <tr>\n",
       "      <th>0</th>\n",
       "      <td>0</td>\n",
       "      <td>35.46</td>\n",
       "      <td>60.00</td>\n",
       "      <td>5.73</td>\n",
       "      <td>2515.0</td>\n",
       "      <td>325.49</td>\n",
       "      <td>1.81</td>\n",
       "      <td>48.37</td>\n",
       "      <td>1.78</td>\n",
       "      <td>83.38</td>\n",
       "      <td>28.04</td>\n",
       "    </tr>\n",
       "    <tr>\n",
       "      <th>1</th>\n",
       "      <td>3</td>\n",
       "      <td>41.87</td>\n",
       "      <td>56.88</td>\n",
       "      <td>7.13</td>\n",
       "      <td>3449.1</td>\n",
       "      <td>302.42</td>\n",
       "      <td>1.92</td>\n",
       "      <td>44.37</td>\n",
       "      <td>2.44</td>\n",
       "      <td>76.49</td>\n",
       "      <td>36.19</td>\n",
       "    </tr>\n",
       "    <tr>\n",
       "      <th>2</th>\n",
       "      <td>6</td>\n",
       "      <td>59.13</td>\n",
       "      <td>53.08</td>\n",
       "      <td>7.96</td>\n",
       "      <td>5197.6</td>\n",
       "      <td>243.40</td>\n",
       "      <td>1.84</td>\n",
       "      <td>37.60</td>\n",
       "      <td>3.01</td>\n",
       "      <td>64.82</td>\n",
       "      <td>37.07</td>\n",
       "    </tr>\n",
       "    <tr>\n",
       "      <th>3</th>\n",
       "      <td>9</td>\n",
       "      <td>53.12</td>\n",
       "      <td>49.42</td>\n",
       "      <td>8.18</td>\n",
       "      <td>1940.1</td>\n",
       "      <td>203.99</td>\n",
       "      <td>1.79</td>\n",
       "      <td>33.48</td>\n",
       "      <td>3.16</td>\n",
       "      <td>57.72</td>\n",
       "      <td>51.25</td>\n",
       "    </tr>\n",
       "    <tr>\n",
       "      <th>4</th>\n",
       "      <td>12</td>\n",
       "      <td>38.96</td>\n",
       "      <td>45.22</td>\n",
       "      <td>8.02</td>\n",
       "      <td>814.4</td>\n",
       "      <td>200.52</td>\n",
       "      <td>1.92</td>\n",
       "      <td>32.68</td>\n",
       "      <td>3.56</td>\n",
       "      <td>56.34</td>\n",
       "      <td>59.70</td>\n",
       "    </tr>\n",
       "  </tbody>\n",
       "</table>\n",
       "</div>"
      ],
      "text/plain": [
       "   Day  Temperature     MC    pH  Ammonia  Nitrate    TN    TOC    EC     OM  \\\n",
       "0    0        35.46  60.00  5.73   2515.0   325.49  1.81  48.37  1.78  83.38   \n",
       "1    3        41.87  56.88  7.13   3449.1   302.42  1.92  44.37  2.44  76.49   \n",
       "2    6        59.13  53.08  7.96   5197.6   243.40  1.84  37.60  3.01  64.82   \n",
       "3    9        53.12  49.42  8.18   1940.1   203.99  1.79  33.48  3.16  57.72   \n",
       "4   12        38.96  45.22  8.02    814.4   200.52  1.92  32.68  3.56  56.34   \n",
       "\n",
       "   Score  \n",
       "0  28.04  \n",
       "1  36.19  \n",
       "2  37.07  \n",
       "3  51.25  \n",
       "4  59.70  "
      ]
     },
     "execution_count": 2,
     "metadata": {},
     "output_type": "execute_result"
    }
   ],
   "source": [
    "# Import Data\n",
    "dataset = pd.read_csv(\"E:\\\\exercise\\\\202109-12\\\\kitchen waste.csv\", encoding = 'gbk', index_col=0)\n",
    "dataset.head()"
   ]
  },
  {
   "cell_type": "code",
   "execution_count": 3,
   "metadata": {},
   "outputs": [],
   "source": [
    "# Separate datasets\n",
    "array = dataset.values\n",
    "X = array[:, 0:10]\n",
    "Y = array[:, 10]\n",
    "X_train, X_test, Y_train, Y_test = train_test_split(X, Y,test_size=0.3, random_state=7)"
   ]
  },
  {
   "cell_type": "code",
   "execution_count": 4,
   "metadata": {},
   "outputs": [],
   "source": [
    "# Evaluation means\n",
    "num_folds = 5\n",
    "scoring1 = 'neg_mean_squared_error'\n",
    "scoring2 = 'r2'\n",
    "scoring1 = 'mean_absolute_error'"
   ]
  },
  {
   "cell_type": "code",
   "execution_count": 5,
   "metadata": {},
   "outputs": [
    {
     "name": "stdout",
     "output_type": "stream",
     "text": [
      "Training_data，MSE：88.08819648683458\n",
      "Training_data，MAE：7.074527210164443\n",
      "Training_data，R2：0.699744142796654\n",
      "Testing_data，MSE：88.62871104154\n",
      "Testing_data，MAE：7.059568354997845\n",
      "Testing_data，R2：0.7332160760558235\n"
     ]
    }
   ],
   "source": [
    "#LR model\n",
    "scaler = StandardScaler().fit(X_train)\n",
    "rescaledX = scaler.transform(X_train)\n",
    "lr = LinearRegression()\n",
    "lr.fit(rescaledX, Y_train)\n",
    "\n",
    "# Evaluate the training set\n",
    "rescaledX_train = scaler.transform(X_train)\n",
    "pre_train = lr.predict(rescaledX_train)\n",
    "print('Training_data，MSE：%s' % (mean_squared_error(Y_train, pre_train)))\n",
    "print('Training_data，MAE：%s' % (mean_absolute_error(Y_train, pre_train)))\n",
    "print('Training_data，R2：%s' %  (r2_score(Y_train, pre_train)))\n",
    "\n",
    "# Evaluate the testing set\n",
    "rescaledX_test = scaler.transform(X_test)\n",
    "pre_test = lr.predict(rescaledX_test)\n",
    "print('Testing_data，MSE：%s' % (mean_squared_error(Y_test, pre_test)))\n",
    "print('Testing_data，MAE：%s' % (mean_absolute_error(Y_test, pre_test)))\n",
    "print('Testing_data，R2：%s' % (r2_score(Y_test, pre_test)))"
   ]
  },
  {
   "cell_type": "code",
   "execution_count": 6,
   "metadata": {},
   "outputs": [],
   "source": [
    "#Data saving-LR\n",
    "#training set - true value\n",
    "trainLR = pd.DataFrame(data = Y_train)\n",
    "trainLR.to_csv('E:\\1108LR_train.csv')\n",
    "#training set - Predictive value\n",
    "pretrainLR = pd.DataFrame(data = pre_train)\n",
    "pretrainLR.to_csv('E:\\1108LR_predictions_train.csv')\n",
    "\n",
    "#testing set - true value\n",
    "testLR = pd.DataFrame(data = Y_test)\n",
    "testLR.to_csv('E:\\1108LR_test.csv')\n",
    "#testing set - Predictive value\n",
    "pretestLR = pd.DataFrame(data = pre_test)\n",
    "pretestLR.to_csv('E:\\1108LR_predictions_test.csv')"
   ]
  },
  {
   "cell_type": "code",
   "execution_count": 7,
   "metadata": {},
   "outputs": [
    {
     "name": "stdout",
     "output_type": "stream",
     "text": [
      "Training_data，MSE：25.221153375527425\n",
      "Training_data，MAE：3.169535864978903\n",
      "Training_data，R2：0.9140316259334715\n",
      "Testing_data，MSE：43.15693513071894\n",
      "Testing_data，MAE：4.324362745098038\n",
      "Testing_data，R2：0.8700920236312463\n"
     ]
    }
   ],
   "source": [
    "#KNN model\n",
    "scaler = StandardScaler().fit(X_train)\n",
    "rescaledX = scaler.transform(X_train)\n",
    "knn= KNeighborsRegressor(n_neighbors = 3)\n",
    "knn.fit(rescaledX, Y_train)\n",
    "\n",
    "# Evaluate the training set\n",
    "rescaledX_train = scaler.transform(X_train)\n",
    "pre_train = knn.predict(rescaledX_train)\n",
    "print('Training_data，MSE：%s' % (mean_squared_error(Y_train, pre_train)))\n",
    "print('Training_data，MAE：%s' % (mean_absolute_error(Y_train, pre_train)))\n",
    "print('Training_data，R2：%s' %  (r2_score(Y_train, pre_train)))\n",
    "\n",
    "# Evaluate the testing set\n",
    "rescaledX_test = scaler.transform(X_test)\n",
    "pre_test = knn.predict(rescaledX_test)\n",
    "print('Testing_data，MSE：%s' % (mean_squared_error(Y_test, pre_test)))\n",
    "print('Testing_data，MAE：%s' % (mean_absolute_error(Y_test, pre_test)))\n",
    "print('Testing_data，R2：%s' % (r2_score(Y_test, pre_test)))"
   ]
  },
  {
   "cell_type": "code",
   "execution_count": 8,
   "metadata": {},
   "outputs": [],
   "source": [
    "#Data saving-KNN\n",
    "#training set - true value\n",
    "trainKNN = pd.DataFrame(data = Y_train)\n",
    "trainKNN.to_csv('E:\\1108KNN_train.csv')\n",
    "#training set - Predictive value\n",
    "pretrainKNN = pd.DataFrame(data = pre_train)\n",
    "pretrainKNN.to_csv('E:\\1108KNN_predictions_train.csv')\n",
    "\n",
    "#testing set - true value\n",
    "testKNN = pd.DataFrame(data = Y_test)\n",
    "testKNN.to_csv('E:\\1108KNN_test.csv')\n",
    "#testing set - Predictive value\n",
    "pretestKNN = pd.DataFrame(data = pre_test)\n",
    "pretestKNN.to_csv('E:\\1108KNN_predictions_test.csv')"
   ]
  },
  {
   "cell_type": "code",
   "execution_count": 9,
   "metadata": {},
   "outputs": [
    {
     "name": "stdout",
     "output_type": "stream",
     "text": [
      "Training_data，MSE：20.101005536844486\n",
      "Training_data，MAE：2.6672716747036365\n",
      "Training_data，R2：0.9314840706380396\n",
      "Testing_data，MSE：78.95339614440383\n",
      "Testing_data，MAE：5.156914390756302\n",
      "Testing_data，R2：0.7623400297195942\n"
     ]
    }
   ],
   "source": [
    "#Model-DT\n",
    "scaler = StandardScaler().fit(X_train)\n",
    "rescaledX = scaler.transform(X_train)\n",
    "dt= DecisionTreeRegressor(max_depth= 19, min_samples_leaf= 1, min_samples_split= 10)\n",
    "dt.fit(rescaledX, Y_train)\n",
    "\n",
    "# Evaluate the training set\n",
    "rescaledX_train = scaler.transform(X_train)\n",
    "pre_train = dt.predict(rescaledX_train)\n",
    "print('Training_data，MSE：%s' % (mean_squared_error(Y_train, pre_train)))\n",
    "print('Training_data，MAE：%s' % (mean_absolute_error(Y_train, pre_train)))\n",
    "print('Training_data，R2：%s' %  (r2_score(Y_train, pre_train)))\n",
    "\n",
    "# Evaluate the testing set\n",
    "rescaledX_test = scaler.transform(X_test)\n",
    "pre_test = dt.predict(rescaledX_test)\n",
    "print('Testing_data，MSE：%s' % (mean_squared_error(Y_test, pre_test)))\n",
    "print('Testing_data，MAE：%s' % (mean_absolute_error(Y_test, pre_test)))\n",
    "print('Testing_data，R2：%s' % (r2_score(Y_test, pre_test)))"
   ]
  },
  {
   "cell_type": "code",
   "execution_count": 11,
   "metadata": {},
   "outputs": [],
   "source": [
    "#Data saving-DT\n",
    "#training set - true value\n",
    "trainDT = pd.DataFrame(data = Y_train)\n",
    "trainDT.to_csv('E:\\DT_train.csv')\n",
    "#training set - Predictive value\n",
    "pretrainDT = pd.DataFrame(data = pre_train)\n",
    "pretrainDT.to_csv('E:\\DT_predictions_train.csv')\n",
    "\n",
    "#testing set - true value\n",
    "testDT = pd.DataFrame(data = Y_test)\n",
    "testDT.to_csv('E:\\DT_test.csv')\n",
    "#testing set - Predictive value\n",
    "pretestDT = pd.DataFrame(data = pre_test)\n",
    "pretestDT.to_csv('E:\\DT_predictions_test.csv')"
   ]
  },
  {
   "cell_type": "code",
   "execution_count": 12,
   "metadata": {},
   "outputs": [
    {
     "name": "stdout",
     "output_type": "stream",
     "text": [
      "Training_data，MSE：96.25407038305744\n",
      "Training_data，MAE：6.73450015981992\n",
      "Training_data，R2：0.6719100905137096\n",
      "Testing_data，MSE：104.19155418585305\n",
      "Testing_data，MAE：7.091537472184907\n",
      "Testing_data，R2：0.6863698981866501\n"
     ]
    }
   ],
   "source": [
    "#SVR model\n",
    "scaler = StandardScaler().fit(X_train)\n",
    "rescaledX = scaler.transform(X_train)\n",
    "svr= SVR(kernel = 'linear')\n",
    "svr.fit(rescaledX, Y_train)\n",
    "\n",
    "# Evaluate the training set\n",
    "rescaledX_train = scaler.transform(X_train)\n",
    "pre_train = svr.predict(rescaledX_train)\n",
    "print('Training_data，MSE：%s' % (mean_squared_error(Y_train, pre_train)))\n",
    "print('Training_data，MAE：%s' % (mean_absolute_error(Y_train, pre_train)))\n",
    "print('Training_data，R2：%s' %  (r2_score(Y_train, pre_train)))\n",
    "\n",
    "# Evaluate the testing set\n",
    "rescaledX_test = scaler.transform(X_test)\n",
    "pre_test = svr.predict(rescaledX_test)\n",
    "print('Testing_data，MSE：%s' % (mean_squared_error(Y_test, pre_test)))\n",
    "print('Testing_data，MAE：%s' % (mean_absolute_error(Y_test, pre_test)))\n",
    "print('Testing_data，R2：%s' % (r2_score(Y_test, pre_test)))"
   ]
  },
  {
   "cell_type": "code",
   "execution_count": 13,
   "metadata": {},
   "outputs": [],
   "source": [
    "#Data saving-SVR\n",
    "#training set - true value\n",
    "trainSVR = pd.DataFrame(data = Y_train)\n",
    "trainSVR.to_csv('E:\\SVR_train.csv')\n",
    "#training set - Predictive value\n",
    "pretrainSVR = pd.DataFrame(data = pre_train)\n",
    "pretrainSVR.to_csv('E:\\SVR_predictions_train.csv')\n",
    "\n",
    "#testing set - true value\n",
    "testSVR = pd.DataFrame(data = Y_test)\n",
    "testSVR.to_csv('E:\\SVR_test.csv')\n",
    "#testing set - Predictive value\n",
    "pretestSVR = pd.DataFrame(data = pre_test)\n",
    "pretestSVR.to_csv('E:\\SVR_predictions_test.csv')"
   ]
  },
  {
   "cell_type": "code",
   "execution_count": 16,
   "metadata": {},
   "outputs": [
    {
     "name": "stdout",
     "output_type": "stream",
     "text": [
      "Training_data，MSE：7.216024357377476\n",
      "Training_data，MAE：1.7680514014466906\n",
      "Training_data，R2：0.9754035879330505\n",
      "Testing_data，MSE：50.2078510428229\n",
      "Testing_data，MAE：3.940185609243713\n",
      "Testing_data，R2：0.8488678515506\n"
     ]
    }
   ],
   "source": [
    "#RF model\n",
    "scaler = StandardScaler().fit(X_train)\n",
    "rescaledX = scaler.transform(X_train)\n",
    "rf= RandomForestRegressor(n_estimators=700)\n",
    "rf.fit(rescaledX, Y_train)\n",
    "\n",
    "# Evaluate the training set\n",
    "rescaledX_train = scaler.transform(X_train)\n",
    "pre_train = rf.predict(rescaledX_train)\n",
    "print('Training_data，MSE：%s' % (mean_squared_error(Y_train, pre_train)))\n",
    "print('Training_data，MAE：%s' % (mean_absolute_error(Y_train, pre_train)))\n",
    "print('Training_data，R2：%s' %  (r2_score(Y_train, pre_train)))\n",
    "\n",
    "# Evaluate the testing set\n",
    "rescaledX_test = scaler.transform(X_test)\n",
    "pre_test = rf.predict(rescaledX_test)\n",
    "print('Testing_data，MSE：%s' % (mean_squared_error(Y_test, pre_test)))\n",
    "print('Testing_data，MAE：%s' % (mean_absolute_error(Y_test, pre_test)))\n",
    "print('Testing_data，R2：%s' % (r2_score(Y_test, pre_test)))"
   ]
  },
  {
   "cell_type": "code",
   "execution_count": 17,
   "metadata": {},
   "outputs": [],
   "source": [
    "#Data saving-RF\n",
    "#training set - true value\n",
    "train = pd.DataFrame(data = Y_train)\n",
    "train.to_csv('E:\\RF_train.csv')\n",
    "\n",
    "#training set - Predictive value\n",
    "pretrainRF = pd.DataFrame(data = pre_train)\n",
    "pretrainRF.to_csv('E:\\RF_predictions_train.csv')\n",
    "\n",
    "#testing set - true value\n",
    "testRF = pd.DataFrame(data = Y_test)\n",
    "testRF.to_csv('E:\\RF_test.csv')\n",
    "#testing set - Predictive value\n",
    "pretestRF = pd.DataFrame(data = pre_test)\n",
    "pretestRF.to_csv('E:\\RFredictions_test.csv')"
   ]
  },
  {
   "cell_type": "code",
   "execution_count": 36,
   "metadata": {},
   "outputs": [],
   "source": [
    "#Stacking model\n",
    "models = [knn,dt,rf]\n",
    "sclf = StackingCVRegressor(regressors=models, meta_regressor=lr)"
   ]
  },
  {
   "cell_type": "code",
   "execution_count": 37,
   "metadata": {},
   "outputs": [
    {
     "name": "stdout",
     "output_type": "stream",
     "text": [
      "Training_data，MSE：12.10320772352737\n",
      "Training_data，MAE：2.2237079374809667\n",
      "Training_data，R2：0.958745221779163\n",
      "Testing_data，MSE：41.652843876507234\n",
      "Testing_data，MAE：3.7935585427777814\n",
      "Testing_data，R2：0.8746195335324186\n"
     ]
    }
   ],
   "source": [
    "#fit stacking model\n",
    "scaler = StandardScaler().fit(X_train)\n",
    "rescaledX = scaler.transform(X_train)\n",
    "sclf = StackingCVRegressor(regressors=models, meta_regressor=lr)\n",
    "sclf.fit(rescaledX, Y_train)\n",
    "\n",
    "# Evaluate the training set\n",
    "rescaledX_train = scaler.transform(X_train)\n",
    "pre_train = sclf.predict(rescaledX_train)\n",
    "print('Training_data，MSE：%s' % (mean_squared_error(Y_train, pre_train)))\n",
    "print('Training_data，MAE：%s' % (mean_absolute_error(Y_train, pre_train)))\n",
    "print('Training_data，R2：%s' %  (r2_score(Y_train, pre_train)))\n",
    "\n",
    "# Evaluate the testing set\n",
    "rescaledX_test = scaler.transform(X_test)\n",
    "pre_test = sclf.predict(rescaledX_test)\n",
    "print('Testing_data，MSE：%s' % (mean_squared_error(Y_test, pre_test)))\n",
    "print('Testing_data，MAE：%s' % (mean_absolute_error(Y_test, pre_test)))\n",
    "print('Testing_data，R2：%s' % (r2_score(Y_test, pre_test)))"
   ]
  },
  {
   "cell_type": "code",
   "execution_count": 24,
   "metadata": {},
   "outputs": [],
   "source": [
    "#Data saving-Stacking\n",
    "#training set - true value\n",
    "trainSt = pd.DataFrame(data = Y_train)\n",
    "trainSt.to_csv('E:\\st_train.csv')\n",
    "#training set - Predictive value\n",
    "pretrainSt = pd.DataFrame(data = pre_train)\n",
    "pretrainSt.to_csv('E:\\st_predictions_train.csv')\n",
    "\n",
    "#testing set - true value\n",
    "testSt = pd.DataFrame(data = Y_test)\n",
    "testSt.to_csv('E:\\st_test.csv')\n",
    "#testing set - Predictive value\n",
    "pretestSt = pd.DataFrame(data = pre_test)\n",
    "pretestSt.to_csv('E:\\st_predictions_test.csv')"
   ]
  },
  {
   "cell_type": "code",
   "execution_count": 25,
   "metadata": {},
   "outputs": [
    {
     "name": "stdout",
     "output_type": "stream",
     "text": [
      "This model has been saved\n"
     ]
    }
   ],
   "source": [
    "#save model\n",
    "import joblib as jl\n",
    "jl.dump(sclf, 'D:\\stacking_model.sav')\n",
    "print('This model has been saved')"
   ]
  },
  {
   "cell_type": "code",
   "execution_count": null,
   "metadata": {},
   "outputs": [],
   "source": []
  }
 ],
 "metadata": {
  "kernelspec": {
   "display_name": "Python 3",
   "language": "python",
   "name": "python3"
  },
  "language_info": {
   "codemirror_mode": {
    "name": "ipython",
    "version": 3
   },
   "file_extension": ".py",
   "mimetype": "text/x-python",
   "name": "python",
   "nbconvert_exporter": "python",
   "pygments_lexer": "ipython3",
   "version": "3.7.3"
  }
 },
 "nbformat": 4,
 "nbformat_minor": 4
}
